{
 "cells": [
  {
   "cell_type": "markdown",
   "id": "e3f68f5f-8f1d-46d2-8db7-6f7087ea08e3",
   "metadata": {},
   "source": [
    "***\n",
    "### Table of Contents\n",
    "1. [Import data](#import) data\n",
    "2. [Customising your embedding models](#defn) \n",
    "    * optimizers\n",
    "    * callbacks\n",
    "    * etc.\n",
    "3. [Setting up](#compile) your embedding models\n",
    "4. [Training](#fit) your model\n",
    "***"
   ]
  },
  {
   "cell_type": "markdown",
   "id": "090588ba-c7cf-4b6a-aaea-4ea53eab3f8a",
   "metadata": {},
   "source": [
    "This notebook shows you ways through which you can have more control over your training process"
   ]
  },
  {
   "cell_type": "code",
   "execution_count": 1,
   "id": "ba2827d4-bbce-4fcb-bc5f-0fa99c5f0190",
   "metadata": {},
   "outputs": [],
   "source": [
    "%load_ext autoreload\n",
    "%autoreload 2\n",
    "from causalnet import metrics, data_processing, model, train\n",
    "import numpy as np\n",
    "import pandas as pd\n",
    "import json\n",
    "import shutil\n",
    "import tensorflow as tf\n",
    "from tensorflow.keras.models import load_model, Model\n",
    "import os\n",
    "from pathlib import Path\n",
    "from tensorflow.keras.optimizers import Adam\n",
    "from tensorflow.keras.callbacks import EarlyStopping, ModelCheckpoint, TensorBoard, ReduceLROnPlateau, TerminateOnNaN\n",
    "import os\n",
    "os.chdir(\"..\")\n",
    "np.random.seed(42)"
   ]
  },
  {
   "cell_type": "markdown",
   "id": "f8c7d720-abc2-4771-bdc7-62fd0f75e0c8",
   "metadata": {},
   "source": [
    "<a id=\"import\"></a>\n",
    "### Importing data\n",
    "\n",
    "First, we define a few things, like which variables we're using as categorical, continuous, response, treatment, and weight in our dataset. We'll also need to point this workbook to the toy dataset used to demo the process."
   ]
  },
  {
   "cell_type": "code",
   "execution_count": 2,
   "id": "d92df660-5fc7-41e2-ae67-af23d7181a92",
   "metadata": {},
   "outputs": [
    {
     "name": "stdout",
     "output_type": "stream",
     "text": [
      "If we clip `target` values above the 70th percentile, we'd alter 1.3% of our data.\n",
      "This is a clip value of 1.172e+03\n"
     ]
    }
   ],
   "source": [
    "\n",
    "import numpy as np\n",
    "import pandas as pd\n",
    "\n",
    "from sklearn.datasets import fetch_openml\n",
    "\n",
    "#Function to fetch the data\n",
    "def load_mtpl2(n_samples=100000):\n",
    "    \"\"\"Fetch the French Motor Third-Party Liability Claims dataset.\n",
    "\n",
    "    Parameters\n",
    "    ----------\n",
    "    n_samples: int, default=100000\n",
    "      number of samples to select (for faster run time). Full dataset has\n",
    "      678013 samples.\n",
    "    \"\"\"\n",
    "    # freMTPL2freq dataset from https://www.openml.org/d/41214\n",
    "    df_freq = fetch_openml(data_id=41214, as_frame=True)[\"data\"]\n",
    "    df_freq[\"IDpol\"] = df_freq[\"IDpol\"].astype(int)\n",
    "    df_freq.set_index(\"IDpol\", inplace=True)\n",
    "\n",
    "    # freMTPL2sev dataset from https://www.openml.org/d/41215\n",
    "    df_sev = fetch_openml(data_id=41215, as_frame=True)[\"data\"]\n",
    "\n",
    "    # sum ClaimAmount over identical IDs\n",
    "    df_sev = df_sev.groupby(\"IDpol\").sum()\n",
    "\n",
    "    df = df_freq.join(df_sev, how=\"left\")\n",
    "    df[\"ClaimAmount\"].fillna(0, inplace=True)\n",
    "\n",
    "    # unquote string fields\n",
    "    for column_name in df.columns[df.dtypes.values == object]:\n",
    "        df[column_name] = df[column_name].str.strip(\"'\")\n",
    "    return df.iloc[:n_samples]\n",
    "\n",
    "\n",
    "\n",
    "df = load_mtpl2(n_samples=300000)\n",
    "df\n",
    "\n",
    "#Categorical Variable definition\n",
    "categorical_variables = df.select_dtypes(include=['object','category']).columns.tolist()\n",
    "\n",
    "#Continuous variable definition\n",
    "continuous_variables = df.select_dtypes(include=['number']).columns.tolist()\n",
    "##Removing our target variable\n",
    "continuous_variables.remove('ClaimAmount')\n",
    "\n",
    "#Treatment variable definition\n",
    "treatment=[\"treatment\"]\n",
    "df[\"treatment\"] = np.random.choice([0, 1], size=(len(df),), p=[2/3, 1/3])\n",
    "\n",
    "#Weight variable definition\n",
    "weight=[\"weight\"]\n",
    "df[\"weight\"] = np.random.uniform(low=0.9, high=1.1, size=len(df))\n",
    "\n",
    "#Target variable definition\n",
    "target = ['ClaimAmount']\n",
    "\n",
    "\n",
    "#Finding optimal max value for our target variable, since some values can get very large\n",
    "percent_clip = 0.7\n",
    "npTarget = df.ClaimAmount.values\n",
    "filtered = npTarget[npTarget>0.1]\n",
    "target_clip_val = np.quantile(filtered,percent_clip)\n",
    "total, gt_percentile = len(npTarget), len(npTarget[npTarget>target_clip_val])\n",
    "print(\"If we clip `target` values above the {}th percentile, we'd alter {:.2}% of our data.\\nThis is a clip value of {:.4}\".format(int(percent_clip*100),100*gt_percentile/total, target_clip_val))\n"
   ]
  },
  {
   "cell_type": "code",
   "execution_count": 3,
   "id": "daa06c8c-0d76-44b0-9280-09084fea91bc",
   "metadata": {},
   "outputs": [
    {
     "name": "stdout",
     "output_type": "stream",
     "text": [
      "Setting max value of target variable at 1172.00\n"
     ]
    }
   ],
   "source": [
    "## Create our custom causalNet data object\n",
    "\n",
    "causalNet = data_processing.preprocessing(data = df, \n",
    "                      categorical_variables = categorical_variables, \n",
    "                      continuous_variables= continuous_variables, \n",
    "                      target_variable = target, \n",
    "                      weight_variable = weight,  \n",
    "                      treatment_variable = treatment, \n",
    "                      scale_y = False,\n",
    "                      weight_target = False, #Default. Let's not weight our response.\n",
    "                      train_split = .8, #Default\n",
    "                      random_state = 11,\n",
    "                      y_clip=target_clip_val) #Pass the clipping threshold we determined already "
   ]
  },
  {
   "cell_type": "markdown",
   "id": "64145409-6134-4340-932d-e2624792754f",
   "metadata": {},
   "source": [
    "To have a more customised embedding model process, you can split the custom causalNet data object into your training & testing data & that can be passed directly for training/"
   ]
  },
  {
   "cell_type": "code",
   "execution_count": 4,
   "id": "d97a6a62-f8f4-4e10-a221-ceda0c611c39",
   "metadata": {},
   "outputs": [],
   "source": [
    "## Unpack the dragon_data\n",
    "\n",
    "x      = causalNet.x_preprocess \n",
    "y      = causalNet.target_preprocess\n",
    "weight_col = causalNet.weight_preprocess\n",
    "training_index = causalNet.training_index\n",
    "testing_index  = causalNet.test_index   \n",
    "\n",
    "x_train = {}\n",
    "x_test= {}\n",
    "for item in causalNet.x_preprocess:\n",
    "    x_train[item] = causalNet.x_preprocess[item][training_index]\n",
    "    x_test[item] = causalNet.x_preprocess[item][testing_index]\n",
    "    \n",
    "weight_train, weight_test = weight_col[training_index], weight_col[testing_index]\n",
    "\n",
    "y_train, y_test = y[training_index], y[testing_index]"
   ]
  },
  {
   "cell_type": "markdown",
   "id": "fa276192-e9d9-48e6-bac1-8dc1334413d7",
   "metadata": {},
   "source": [
    "<a id=\"defn\"></a>\n",
    "### Defining custom model paramters:\n",
    "\n",
    "With this package you can have more direct control over the following:\n",
    "* callbacks - Used to instruct your model trainer to perform variety of tasks at the end of every epoch like plotting customs results in real time, change learning rate as the model loss saturates, stop training when the model results NaN results, etc.\n",
    "* activations - Changing the activation function. To learn more : [documentation](https://www.tensorflow.org/api_docs/python/tf/keras/activations)\n"
   ]
  },
  {
   "cell_type": "code",
   "execution_count": 5,
   "id": "e7a96a99-bf20-43fb-8fd1-12249fc2c370",
   "metadata": {},
   "outputs": [],
   "source": [
    "## Define our custom parameters\n",
    "checkpoint_path = 'embed_checkpoint'\n",
    "tf.random.set_seed(101)\n",
    "optimizer = Adam(learning_rate=1e-6, \n",
    "                 beta_1=.9, \n",
    "                 beta_2=.999, \n",
    "                 epsilon=1e-3,\n",
    "                 amsgrad=False)\n",
    "\n",
    "callbacks = [\n",
    "    train.TrainPerformanceViz(),\n",
    "    TerminateOnNaN(),\n",
    "    EarlyStopping(monitor='tweedie_loss', mode='min', patience=5, min_delta=0, restore_best_weights = True),\n",
    "    ReduceLROnPlateau(monitor='tweedie_loss', mode='min', factor=0.5, patience=2, \n",
    "                     min_delta=1e-15, cooldown=5, min_lr=1e-15),\n",
    "    ModelCheckpoint(\n",
    "        filepath='embed_checkpoints/model.{epoch:02d}-{loss:.2f}', monitor='tweedie_loss', mode='min', verbose=0, save_best_only=False,\n",
    "        save_weights_only=False, save_freq='epoch')\n",
    "    \n",
    "            ]"
   ]
  },
  {
   "cell_type": "markdown",
   "id": "445ae561-c486-4a95-8d28-2019edce2466",
   "metadata": {},
   "source": [
    "<a id=\"compile\"></a>:\n",
    "### Compiling embedding model\n",
    "The more complex section of code below will check the defined checkpoint location for existing checkpoints:\n",
    "* If checkpoints exist, resume training. \n",
    "* Otherwise, define a new embeddig model. \n",
    "\n",
    "This section can be simplified to the following if desired:\n",
    "\n",
    "```python\n",
    "inputs, outputs = models.embedding_network(dragon_data, activation='custom_activation')\n",
    "embed_model = Model(inputs, outputs)\n",
    "```"
   ]
  },
  {
   "cell_type": "code",
   "execution_count": 6,
   "id": "09a88b60-1d9f-4f1d-8427-f32a39990938",
   "metadata": {},
   "outputs": [
    {
     "name": "stdout",
     "output_type": "stream",
     "text": [
      "Checking for saved checkpoints....\n",
      "Loading checkpoint from embed_checkpoint\\model.05-25.95\n",
      "No checkpoint found. Creating embedding model from scratch.\n",
      "\n",
      " -----------------------------\n",
      " Embedding skeleton created!!!\n"
     ]
    }
   ],
   "source": [
    "import glob\n",
    "try:\n",
    "    print(\"Checking for saved checkpoints....\")\n",
    "    list_of_folders = glob.glob(str(checkpoint_path)+'/*')\n",
    "    total_epochs = len(list_of_folders)\n",
    "    latest_file = max(list_of_folders, key=os.path.getctime)\n",
    "    print(\"Loading checkpoint from \" + latest_file)\n",
    "    embed_model = load_model(latest_file)\n",
    "except:\n",
    "    print(\"No checkpoint found. Creating embedding model from scratch.\")\n",
    "    inputs, outputs = model.emdedding_net_skeleton(causalNet, activation='sigmoid')\n",
    "    total_epochs = 0\n",
    "    embed_model = Model(inputs, outputs)"
   ]
  },
  {
   "cell_type": "code",
   "execution_count": 7,
   "id": "53522358-6ff8-4599-bbdd-a42f876719b4",
   "metadata": {},
   "outputs": [],
   "source": [
    "embed_model.compile(optimizer=optimizer,\n",
    "              loss='tweedie_loss',\n",
    "              metrics=['mean_squared_logarithmic_error','tweedie_loss'],\n",
    "              loss_weights = weight_train)"
   ]
  },
  {
   "cell_type": "markdown",
   "id": "e394a475-bad9-4cb2-b53b-971fbe042f4c",
   "metadata": {},
   "source": [
    "<a id=\"fit\"></a>\n",
    "### Training the embedding model\n"
   ]
  },
  {
   "cell_type": "code",
   "execution_count": 8,
   "id": "cbbe7ab0-91b0-4168-a44c-3a05189d55b3",
   "metadata": {},
   "outputs": [
    {
     "data": {
      "image/png": "[encoded data removed]",
      "text/plain": [
       "<Figure size 432x288 with 1 Axes>"
      ]
     },
     "metadata": {
      "needs_background": "light"
     },
     "output_type": "display_data"
    },
    {
     "name": "stderr",
     "output_type": "stream",
     "text": [
      "WARNING:absl:Function `_wrapped_model` contains input name(s) Area, VehBrand, VehGas, Region with unsupported characters which will be renamed to area, vehbrand, vehgas, region in the SavedModel.\n"
     ]
    },
    {
     "name": "stdout",
     "output_type": "stream",
     "text": [
      "INFO:tensorflow:Assets written to: embed_checkpoints\\model.15-14.51\\assets\n"
     ]
    },
    {
     "name": "stderr",
     "output_type": "stream",
     "text": [
      "INFO:tensorflow:Assets written to: embed_checkpoints\\model.15-14.51\\assets\n"
     ]
    },
    {
     "data": {
      "text/plain": [
       "<tensorflow.python.keras.callbacks.History at 0x1a23d10a8b0>"
      ]
     },
     "execution_count": 8,
     "metadata": {},
     "output_type": "execute_result"
    }
   ],
   "source": [
    "embed_model.fit(x = x_train, \n",
    "                y = y_train,\n",
    "                epochs = 15-total_epochs,\n",
    "                callbacks = callbacks,\n",
    "                batch_size = 64*3,\n",
    "                validation_split = .3\n",
    "                 )"
   ]
  },
  {
   "cell_type": "code",
   "execution_count": 9,
   "id": "7f50e613-f23b-4f79-aa51-d257f7023b05",
   "metadata": {},
   "outputs": [],
   "source": [
    "shutil.rmtree(checkpoint_path)"
   ]
  },
  {
   "cell_type": "code",
   "execution_count": null,
   "id": "3b596bb2",
   "metadata": {},
   "outputs": [],
   "source": []
  }
 ],
 "metadata": {
  "kernelspec": {
   "display_name": "Python 3 (ipykernel)",
   "language": "python",
   "name": "python3"
  },
  "language_info": {
   "codemirror_mode": {
    "name": "ipython",
    "version": 3
   },
   "file_extension": ".py",
   "mimetype": "text/x-python",
   "name": "python",
   "nbconvert_exporter": "python",
   "pygments_lexer": "ipython3",
   "version": "3.9.7"
  }
 },
 "nbformat": 4,
 "nbformat_minor": 5
}
